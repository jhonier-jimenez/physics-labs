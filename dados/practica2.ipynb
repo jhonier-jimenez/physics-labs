{
 "cells": [
  {
   "cell_type": "markdown",
   "id": "147982fa",
   "metadata": {},
   "source": [
    "# Práctica 2: Distribución de Poisson con Eventos Raros\n",
    "\n",
    "## Objetivos\n",
    "1.  Medir los conteos de eventos raros (doble-seis) por intervalos.\n",
    "2.  Estimar el parámetro $\\lambda$ de la distribución de Poisson.\n",
    "3.  Verificar el ajuste de los datos a una distribución de Poisson mediante la prueba Chi-cuadrado.\n",
    "4.  Contrastar la propiedad de la distribución de Poisson donde la media y la varianza son iguales ($E[Y] = \\text{Var}(Y) = \\lambda$).\n",
    "\n",
    "## Definición del Experimento\n",
    "Se analiza el número de veces que se obtiene un \"doble-seis\" al lanzar dos dados. Este es un evento raro, y el número de ocurrencias en un intervalo fijo sigue una distribución de Poisson.\n",
    "\n",
    "$Y \\sim \\text{Poisson}(\\lambda)$\n",
    "\n",
    "Donde:\n",
    "- $Y$ es el número de doble-seis contados en un intervalo.\n",
    "- $\\lambda$ es el número promedio de ocurrencias (doble-seis) por intervalo."
   ]
  },
  {
   "cell_type": "code",
   "execution_count": 2,
   "id": "b2668ded",
   "metadata": {},
   "outputs": [
    {
     "data": {
      "text/html": [
       "<div>\n",
       "<style scoped>\n",
       "    .dataframe tbody tr th:only-of-type {\n",
       "        vertical-align: middle;\n",
       "    }\n",
       "\n",
       "    .dataframe tbody tr th {\n",
       "        vertical-align: top;\n",
       "    }\n",
       "\n",
       "    .dataframe thead th {\n",
       "        text-align: right;\n",
       "    }\n",
       "</style>\n",
       "<table border=\"1\" class=\"dataframe\">\n",
       "  <thead>\n",
       "    <tr style=\"text-align: right;\">\n",
       "      <th></th>\n",
       "      <th>intervalo</th>\n",
       "      <th>lanzamientos_en_minuto</th>\n",
       "      <th>doble_seis_contados</th>\n",
       "    </tr>\n",
       "  </thead>\n",
       "  <tbody>\n",
       "    <tr>\n",
       "      <th>0</th>\n",
       "      <td>1</td>\n",
       "      <td>55</td>\n",
       "      <td>1</td>\n",
       "    </tr>\n",
       "    <tr>\n",
       "      <th>1</th>\n",
       "      <td>2</td>\n",
       "      <td>48</td>\n",
       "      <td>2</td>\n",
       "    </tr>\n",
       "    <tr>\n",
       "      <th>2</th>\n",
       "      <td>3</td>\n",
       "      <td>59</td>\n",
       "      <td>1</td>\n",
       "    </tr>\n",
       "    <tr>\n",
       "      <th>3</th>\n",
       "      <td>4</td>\n",
       "      <td>52</td>\n",
       "      <td>0</td>\n",
       "    </tr>\n",
       "    <tr>\n",
       "      <th>4</th>\n",
       "      <td>5</td>\n",
       "      <td>60</td>\n",
       "      <td>2</td>\n",
       "    </tr>\n",
       "  </tbody>\n",
       "</table>\n",
       "</div>"
      ],
      "text/plain": [
       "   intervalo  lanzamientos_en_minuto  doble_seis_contados\n",
       "0          1                      55                    1\n",
       "1          2                      48                    2\n",
       "2          3                      59                    1\n",
       "3          4                      52                    0\n",
       "4          5                      60                    2"
      ]
     },
     "execution_count": 2,
     "metadata": {},
     "output_type": "execute_result"
    }
   ],
   "source": [
    "import pandas as pd\n",
    "import numpy as np\n",
    "import matplotlib.pyplot as plt\n",
    "import seaborn as sns\n",
    "from scipy.stats import poisson, chi2\n",
    "\n",
    "# Cargar los datos\n",
    "df = pd.read_csv('datos_practica2.csv')\n",
    "\n",
    "# Mostrar los primeros 5 intervalos\n",
    "df.head()"
   ]
  },
  {
   "cell_type": "markdown",
   "id": "81c1d87c",
   "metadata": {},
   "source": [
    "## Estimación del Parámetro $\\lambda$\n",
    "\n",
    "El parámetro $\\lambda$ de la distribución de Poisson representa la tasa media de ocurrencia de un evento en un intervalo específico. El mejor estimador para $\\lambda$ es la media muestral de los conteos observados.\n",
    "\n",
    "**Estimador de $\\lambda$:**\n",
    "$\\hat{\\lambda} = \\bar{y} = \\frac{1}{N} \\sum_{i=1}^{N} y_i$\n",
    "\n",
    "Donde:\n",
    "- $N$ es el número total de intervalos.\n",
    "- $y_i$ es el número de eventos (doble-seis) contados en el intervalo $i$."
   ]
  },
  {
   "cell_type": "code",
   "execution_count": 3,
   "id": "b9303ea6",
   "metadata": {},
   "outputs": [
    {
     "name": "stdout",
     "output_type": "stream",
     "text": [
      "Estimador de λ (λ̂): 1.2500\n",
      "Varianza muestral (s²): 0.4079\n"
     ]
    }
   ],
   "source": [
    "# Extraer la columna de conteos de 'doble_seis_contados'\n",
    "y_values = df['doble_seis_contados']\n",
    "\n",
    "# Estimar lambda (λ)\n",
    "lambda_estimado = np.mean(y_values)\n",
    "\n",
    "# Calcular la varianza muestral\n",
    "varianza_muestral = np.var(y_values, ddof=1)  # ddof=1 para varianza insesgada\n",
    "\n",
    "print(f\"Estimador de λ (λ̂): {lambda_estimado:.4f}\")\n",
    "print(f\"Varianza muestral (s²): {varianza_muestral:.4f}\")"
   ]
  },
  {
   "cell_type": "markdown",
   "id": "56245643",
   "metadata": {},
   "source": [
    "## Comparación de Frecuencias Observadas y Esperadas\n",
    "\n",
    "Para evaluar si los datos se ajustan a una distribución de Poisson, comparamos las frecuencias observadas de los conteos con las frecuencias esperadas teóricas.\n",
    "\n",
    "La probabilidad de observar exactamente $k$ eventos en un intervalo está dada por la **función de masa de probabilidad (PMF)** de la distribución de Poisson:\n",
    "\n",
    "$P(Y=k) = \\frac{e^{-\\lambda} \\lambda^k}{k!}$"
   ]
  },
  {
   "cell_type": "code",
   "execution_count": 4,
   "id": "0eebf0e5",
   "metadata": {},
   "outputs": [
    {
     "data": {
      "image/png": "[encoded data removed]",
      "text/plain": [
       "<Figure size 1200x600 with 1 Axes>"
      ]
     },
     "metadata": {},
     "output_type": "display_data"
    }
   ],
   "source": [
    "# Frecuencias observadas\n",
    "frecuencias_observadas = y_values.value_counts().sort_index()\n",
    "\n",
    "# Rango de posibles conteos\n",
    "k_range = np.arange(0, y_values.max() + 2)\n",
    "\n",
    "# Probabilidades teóricas de Poisson\n",
    "probabilidades_teoricas = poisson.pmf(k_range, lambda_estimado)\n",
    "\n",
    "# Gráfico de la distribución de frecuencias observadas\n",
    "plt.figure(figsize=(12, 6))\n",
    "sns.histplot(y_values, bins=np.arange(y_values.min(), y_values.max() + 2) - 0.5, stat='density', discrete=True, label='Frecuencia Observada (Normalizada)', color='lightgreen')\n",
    "\n",
    "# Gráfico de la distribución de probabilidad teórica\n",
    "plt.plot(k_range, probabilidades_teoricas, 'bo-', label=f'Probabilidad Teórica Poisson (λ={lambda_estimado:.2f})')\n",
    "\n",
    "plt.title('Distribución de Conteos: Observada vs. Teórica de Poisson')\n",
    "plt.xlabel('Número de Doble-Seis (k)')\n",
    "plt.ylabel('Densidad de Probabilidad')\n",
    "plt.xticks(k_range)\n",
    "plt.legend()\n",
    "plt.grid(True)\n",
    "plt.show()"
   ]
  },
  {
   "cell_type": "markdown",
   "id": "b4e3dc33",
   "metadata": {},
   "source": [
    "## Prueba de Bondad de Ajuste Chi-cuadrado ($\\chi^2$)\n",
    "\n",
    "Para verificar formalmente si los datos observados se ajustan a la distribución de Poisson, utilizamos la prueba de Chi-cuadrado.\n",
    "\n",
    "El estadístico de prueba se calcula como:\n",
    "$\\chi^2 = \\sum_{i=1}^{m} \\frac{(O_i - E_i)^2}{E_i}$\n",
    "\n",
    "Donde:\n",
    "- $O_i$ es la frecuencia observada para la categoría $i$.\n",
    "- $E_i$ es la frecuencia esperada para la categoría $i$, calculada como $N \\times P(Y=k_i)$.\n",
    "- $m$ es el número de categorías.\n",
    "\n",
    "**Hipótesis:**\n",
    "- $H_0$: Los datos siguen una distribución de Poisson con $\\lambda = \\hat{\\lambda}$.\n",
    "- $H_1$: Los datos no siguen dicha distribución.\n",
    "\n",
    "Se comparará el valor de $\\chi^2$ calculado con un valor crítico de la distribución Chi-cuadrado con $m-1-1 = m-2$ grados de libertad (se resta 1 adicional porque estimamos $\\lambda$ a partir de los datos) y un nivel de significancia $\\alpha$."
   ]
  },
  {
   "cell_type": "code",
   "execution_count": 5,
   "id": "b733ef81",
   "metadata": {},
   "outputs": [
    {
     "name": "stdout",
     "output_type": "stream",
     "text": [
      "Tabla de Frecuencias para Prueba Chi-cuadrado:\n",
      "                     observada  prob_teorica  esperada\n",
      "doble_seis_contados                                   \n",
      "0                          2.0      0.286505  5.730096\n",
      "1                         11.0      0.358131  7.162620\n",
      ">= 2                       7.0           NaN  4.476637\n",
      "\n",
      "--- Resultados de la Prueba Chi-cuadrado ---\n",
      "Estadístico Chi-cuadrado calculado (χ²): 5.9064\n",
      "Grados de libertad: 1\n",
      "Valor crítico de Chi-cuadrado (α=0.05): 3.8415\n",
      "p-valor: 0.0151\n",
      "\n",
      "Conclusión: Se rechaza la hipótesis nula (H₀).\n",
      "Los datos no parecen seguir una distribución de Poisson con λ=1.25.\n"
     ]
    }
   ],
   "source": [
    "# Número total de intervalos\n",
    "N = len(df)\n",
    "\n",
    "# Crear tabla de frecuencias\n",
    "frec_observada = y_values.value_counts().sort_index()\n",
    "df_frec = pd.DataFrame({'observada': frec_observada})\n",
    "\n",
    "# Calcular frecuencias esperadas\n",
    "df_frec['prob_teorica'] = poisson.pmf(df_frec.index, lambda_estimado)\n",
    "df_frec['esperada'] = df_frec['prob_teorica'] * N\n",
    "\n",
    "# Agrupar categorías con frecuencia esperada < 5\n",
    "umbral = 5\n",
    "if (df_frec['esperada'] < umbral).any():\n",
    "    # Agrupar las categorías de cola\n",
    "    cola = df_frec[df_frec['esperada'] < umbral]\n",
    "    if not cola.empty:\n",
    "        cola_observada = cola['observada'].sum()\n",
    "        cola_esperada = cola['esperada'].sum()\n",
    "        \n",
    "        # Eliminar filas de la cola\n",
    "        df_frec = df_frec[df_frec['esperada'] >= umbral]\n",
    "        \n",
    "        # Añadir la categoría agrupada\n",
    "        df_frec.loc['>= ' + str(cola.index.min())] = [cola_observada, np.nan, cola_esperada]\n",
    "\n",
    "# Extraer frecuencias finales para la prueba\n",
    "O = df_frec['observada'].values\n",
    "E = df_frec['esperada'].values\n",
    "\n",
    "# Calcular el estadístico Chi-cuadrado\n",
    "chi2_calculado = np.sum((O - E)**2 / E)\n",
    "\n",
    "# Grados de libertad\n",
    "# m (número de categorías) - 1 (por el total) - 1 (por estimar lambda)\n",
    "grados_libertad = len(O) - 2\n",
    "\n",
    "# Nivel de significancia\n",
    "alpha = 0.05\n",
    "\n",
    "# Valor crítico de Chi-cuadrado\n",
    "chi2_critico = chi2.ppf(1 - alpha, grados_libertad)\n",
    "\n",
    "# p-valor\n",
    "p_valor = 1 - chi2.cdf(chi2_calculado, grados_libertad)\n",
    "\n",
    "print(\"Tabla de Frecuencias para Prueba Chi-cuadrado:\")\n",
    "print(df_frec)\n",
    "print(\"\\n--- Resultados de la Prueba Chi-cuadrado ---\")\n",
    "print(f\"Estadístico Chi-cuadrado calculado (χ²): {chi2_calculado:.4f}\")\n",
    "print(f\"Grados de libertad: {grados_libertad}\")\n",
    "print(f\"Valor crítico de Chi-cuadrado (α=0.05): {chi2_critico:.4f}\")\n",
    "print(f\"p-valor: {p_valor:.4f}\")\n",
    "\n",
    "# Conclusión\n",
    "if chi2_calculado > chi2_critico:\n",
    "    print(\"\\nConclusión: Se rechaza la hipótesis nula (H₀).\")\n",
    "    print(f\"Los datos no parecen seguir una distribución de Poisson con λ={lambda_estimado:.2f}.\")\n",
    "else:\n",
    "    print(\"\\nConclusión: No se puede rechazar la hipótesis nula (H₀).\")\n",
    "    print(f\"Los datos son consistentes con una distribución de Poisson con λ={lambda_estimado:.2f}.\")"
   ]
  }
 ],
 "metadata": {
  "kernelspec": {
   "display_name": "venv",
   "language": "python",
   "name": "python3"
  },
  "language_info": {
   "codemirror_mode": {
    "name": "ipython",
    "version": 3
   },
   "file_extension": ".py",
   "mimetype": "text/x-python",
   "name": "python",
   "nbconvert_exporter": "python",
   "pygments_lexer": "ipython3",
   "version": "3.13.7"
  }
 },
 "nbformat": 4,
 "nbformat_minor": 5
}
