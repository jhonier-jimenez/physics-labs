{
 "cells": [
  {
   "cell_type": "markdown",
   "id": "e7f72563",
   "metadata": {},
   "source": [
    "# Práctica 3: Aproximación Normal por Sumas (Teorema Central del Límite)\n",
    "\n",
    "## Objetivos\n",
    "1.  Construir una variable aleatoria a partir de la suma de 12 lanzamientos de un dado.\n",
    "2.  Verificar visualmente la forma de campana de la distribución de las sumas.\n",
    "3.  Comprobar si los porcentajes de datos dentro de $\\pm1\\sigma$ y $\\pm2\\sigma$ se corresponden con los de una distribución normal.\n",
    "4.  Contrastar el ajuste a una distribución normal mediante una prueba de Chi-cuadrado.\n",
    "\n",
    "## Idea Base: Teorema Central del Límite (CLT)\n",
    "El Teorema Central del Límite establece que, bajo ciertas condiciones, la suma de un gran número de variables aleatorias independientes y de idéntica distribución se aproximará a una distribución normal, sin importar la distribución original de las variables.\n",
    "\n",
    "En este caso, la variable es la suma $S$ del resultado de 12 lanzamientos de un dado.\n",
    "$S = X_1 + X_2 + \\dots + X_{12}$\n",
    "\n",
    "Por el CLT, esperamos que la distribución de $S$ se aproxime a una normal:\n",
    "$S \\sim \\mathcal{N}(\\mu_S, \\sigma_S^2)$"
   ]
  },
  {
   "cell_type": "code",
   "execution_count": 9,
   "id": "29c71d1e",
   "metadata": {},
   "outputs": [
    {
     "data": {
      "text/html": [
       "<div>\n",
       "<style scoped>\n",
       "    .dataframe tbody tr th:only-of-type {\n",
       "        vertical-align: middle;\n",
       "    }\n",
       "\n",
       "    .dataframe tbody tr th {\n",
       "        vertical-align: top;\n",
       "    }\n",
       "\n",
       "    .dataframe thead th {\n",
       "        text-align: right;\n",
       "    }\n",
       "</style>\n",
       "<table border=\"1\" class=\"dataframe\">\n",
       "  <thead>\n",
       "    <tr style=\"text-align: right;\">\n",
       "      <th></th>\n",
       "      <th>experimento</th>\n",
       "      <th>lanzamientos</th>\n",
       "      <th>suma</th>\n",
       "    </tr>\n",
       "  </thead>\n",
       "  <tbody>\n",
       "    <tr>\n",
       "      <th>0</th>\n",
       "      <td>1</td>\n",
       "      <td>12</td>\n",
       "      <td>43</td>\n",
       "    </tr>\n",
       "    <tr>\n",
       "      <th>1</th>\n",
       "      <td>2</td>\n",
       "      <td>12</td>\n",
       "      <td>38</td>\n",
       "    </tr>\n",
       "    <tr>\n",
       "      <th>2</th>\n",
       "      <td>3</td>\n",
       "      <td>12</td>\n",
       "      <td>45</td>\n",
       "    </tr>\n",
       "    <tr>\n",
       "      <th>3</th>\n",
       "      <td>4</td>\n",
       "      <td>12</td>\n",
       "      <td>41</td>\n",
       "    </tr>\n",
       "    <tr>\n",
       "      <th>4</th>\n",
       "      <td>5</td>\n",
       "      <td>12</td>\n",
       "      <td>42</td>\n",
       "    </tr>\n",
       "    <tr>\n",
       "      <th>...</th>\n",
       "      <td>...</td>\n",
       "      <td>...</td>\n",
       "      <td>...</td>\n",
       "    </tr>\n",
       "    <tr>\n",
       "      <th>95</th>\n",
       "      <td>96</td>\n",
       "      <td>12</td>\n",
       "      <td>45</td>\n",
       "    </tr>\n",
       "    <tr>\n",
       "      <th>96</th>\n",
       "      <td>97</td>\n",
       "      <td>12</td>\n",
       "      <td>40</td>\n",
       "    </tr>\n",
       "    <tr>\n",
       "      <th>97</th>\n",
       "      <td>98</td>\n",
       "      <td>12</td>\n",
       "      <td>46</td>\n",
       "    </tr>\n",
       "    <tr>\n",
       "      <th>98</th>\n",
       "      <td>99</td>\n",
       "      <td>12</td>\n",
       "      <td>41</td>\n",
       "    </tr>\n",
       "    <tr>\n",
       "      <th>99</th>\n",
       "      <td>100</td>\n",
       "      <td>12</td>\n",
       "      <td>44</td>\n",
       "    </tr>\n",
       "  </tbody>\n",
       "</table>\n",
       "<p>100 rows × 3 columns</p>\n",
       "</div>"
      ],
      "text/plain": [
       "    experimento  lanzamientos  suma\n",
       "0             1            12    43\n",
       "1             2            12    38\n",
       "2             3            12    45\n",
       "3             4            12    41\n",
       "4             5            12    42\n",
       "..          ...           ...   ...\n",
       "95           96            12    45\n",
       "96           97            12    40\n",
       "97           98            12    46\n",
       "98           99            12    41\n",
       "99          100            12    44\n",
       "\n",
       "[100 rows x 3 columns]"
      ]
     },
     "execution_count": 9,
     "metadata": {},
     "output_type": "execute_result"
    }
   ],
   "source": [
    "import pandas as pd\n",
    "import numpy as np\n",
    "import matplotlib.pyplot as plt\n",
    "import seaborn as sns\n",
    "from scipy.stats import norm, chi2\n",
    "\n",
    "# Cargar los datos\n",
    "df = pd.read_csv('datos_practica3.csv')\n",
    "\n",
    "# Renombrar la columna del resultado de la suma\n",
    "df.columns = ['experimento', 'lanzamientos', 'suma']\n",
    "\n",
    "# Mostrar los primeros 5 experimentos\n",
    "df"
   ]
  },
  {
   "cell_type": "markdown",
   "id": "baf44c41",
   "metadata": {},
   "source": [
    "## Parámetros Teóricos de la Suma\n",
    "\n",
    "Para un solo lanzamiento de un dado ($X_i$), la media y la varianza son:\n",
    "- $\\mu_X = E[X_i] = \\frac{1+2+3+4+5+6}{6} = 3.5$\n",
    "- $\\sigma_X^2 = \\text{Var}(X_i) = E[X_i^2] - (E[X_i])^2 = \\frac{1^2+2^2+3^2+4^2+5^2+6^2}{6} - (3.5)^2 = \\frac{91}{6} - 12.25 \\approx 2.9167$\n",
    "\n",
    "Para la suma de $n=12$ lanzamientos ($S = \\sum_{i=1}^{12} X_i$):\n",
    "- **Media teórica:** $\\mu_S = n \\cdot \\mu_X = 12 \\cdot 3.5 = 42$\n",
    "- **Varianza teórica:** $\\sigma_S^2 = n \\cdot \\sigma_X^2 = 12 \\cdot \\frac{35}{12} = 35$\n",
    "- **Desviación estándar teórica:** $\\sigma_S = \\sqrt{35} \\approx 5.916$"
   ]
  },
  {
   "cell_type": "code",
   "execution_count": 11,
   "id": "0fa32b98",
   "metadata": {},
   "outputs": [
    {
     "name": "stdout",
     "output_type": "stream",
     "text": [
      "--- Comparación de Parámetros ---\n",
      "Media muestral: 42.4100 (Teórica: 42)\n",
      "Varianza muestral: 6.9918 (Teórica: 35)\n",
      "Desviación estándar muestral: 2.6442 (Teórica: 5.9161)\n"
     ]
    }
   ],
   "source": [
    "# Extraer la columna de 'suma'\n",
    "S_values = df['suma']\n",
    "\n",
    "# Calcular estadísticos muestrales\n",
    "media_muestral = np.mean(S_values)\n",
    "varianza_muestral = np.var(S_values, ddof=1)\n",
    "std_muestral = np.std(S_values, ddof=1)\n",
    "\n",
    "# Parámetros teóricos\n",
    "media_teorica = 42\n",
    "varianza_teorica = 35\n",
    "std_teorica = np.sqrt(35)\n",
    "\n",
    "print(\"--- Comparación de Parámetros ---\")\n",
    "print(f\"Media muestral: {media_muestral:.4f} (Teórica: {media_teorica})\")\n",
    "print(f\"Varianza muestral: {varianza_muestral:.4f} (Teórica: {varianza_teorica})\")\n",
    "print(f\"Desviación estándar muestral: {std_muestral:.4f} (Teórica: {std_teorica:.4f})\")"
   ]
  },
  {
   "cell_type": "markdown",
   "id": "d2f7459b",
   "metadata": {},
   "source": [
    "## Visualización de la Distribución\n",
    "\n",
    "Para verificar la aproximación a la normalidad, creamos un histograma de las sumas observadas y lo superponemos con la curva de densidad de probabilidad de una distribución normal con la media y desviación estándar muestrales."
   ]
  },
  {
   "cell_type": "code",
   "execution_count": 12,
   "id": "9b74d8d1",
   "metadata": {},
   "outputs": [
    {
     "data": {
      "image/png": "[encoded data removed]",
      "text/plain": [
       "<Figure size 1200x600 with 1 Axes>"
      ]
     },
     "metadata": {},
     "output_type": "display_data"
    }
   ],
   "source": [
    "plt.figure(figsize=(12, 6))\n",
    "sns.histplot(S_values, kde=False, stat='density', bins=15, label='Frecuencia Observada (Normalizada)', color='cyan')\n",
    "\n",
    "# Superponer la curva normal teórica\n",
    "xmin, xmax = plt.xlim()\n",
    "x = np.linspace(xmin, xmax, 100)\n",
    "p = norm.pdf(x, media_muestral, std_muestral)\n",
    "plt.plot(x, p, 'k', linewidth=2, label=f'Distribución Normal (μ={media_muestral:.2f}, σ={std_muestral:.2f})')\n",
    "\n",
    "plt.title('Histograma de la Suma de 12 Lanzamientos y Aproximación Normal')\n",
    "plt.xlabel('Suma de 12 Lanzamientos (S)')\n",
    "plt.ylabel('Densidad de Probabilidad')\n",
    "plt.legend()\n",
    "plt.grid(True)\n",
    "plt.show()"
   ]
  },
  {
   "cell_type": "markdown",
   "id": "8587d75f",
   "metadata": {},
   "source": [
    "## Verificación de Porcentajes (Regla 68-95-99.7)\n",
    "\n",
    "Una propiedad clave de la distribución normal es que ciertos porcentajes de datos caen dentro de un número específico de desviaciones estándar de la media:\n",
    "- Aproximadamente el **68%** de los datos se encuentra dentro de $\\mu \\pm 1\\sigma$.\n",
    "- Aproximadamente el **95%** de los datos se encuentra dentro de $\\mu \\pm 2\\sigma$.\n",
    "- Aproximadamente el **99.7%** de los datos se encuentra dentro de $\\mu \\pm 3\\sigma$.\n",
    "\n",
    "Vamos a calcular estos porcentajes para nuestros datos observados."
   ]
  },
  {
   "cell_type": "code",
   "execution_count": 13,
   "id": "c49c95fd",
   "metadata": {},
   "outputs": [
    {
     "name": "stdout",
     "output_type": "stream",
     "text": [
      "--- Verificación de la Regla Empírica ---\n",
      "Porcentaje de datos dentro de ±1σ: 0.7000 (Esperado: ~0.68)\n",
      "Porcentaje de datos dentro de ±2σ: 0.9800 (Esperado: ~0.95)\n",
      "Porcentaje de datos dentro de ±3σ: 1.0000 (Esperado: ~0.997)\n"
     ]
    }
   ],
   "source": [
    "# Calcular los porcentajes observados\n",
    "dentro_1_sigma = np.sum((S_values >= media_muestral - std_muestral) & (S_values <= media_muestral + std_muestral)) / len(S_values)\n",
    "dentro_2_sigma = np.sum((S_values >= media_muestral - 2 * std_muestral) & (S_values <= media_muestral + 2 * std_muestral)) / len(S_values)\n",
    "dentro_3_sigma = np.sum((S_values >= media_muestral - 3 * std_muestral) & (S_values <= media_muestral + 3 * std_muestral)) / len(S_values)\n",
    "\n",
    "print(\"--- Verificación de la Regla Empírica ---\")\n",
    "print(f\"Porcentaje de datos dentro de ±1σ: {dentro_1_sigma:.4f} (Esperado: ~0.68)\")\n",
    "print(f\"Porcentaje de datos dentro de ±2σ: {dentro_2_sigma:.4f} (Esperado: ~0.95)\")\n",
    "print(f\"Porcentaje de datos dentro de ±3σ: {dentro_3_sigma:.4f} (Esperado: ~0.997)\")"
   ]
  },
  {
   "cell_type": "markdown",
   "id": "05e3f5a5",
   "metadata": {},
   "source": [
    "## Prueba de Bondad de Ajuste Chi-cuadrado ($\\chi^2$)\n",
    "\n",
    "Para una prueba más formal, agrupamos los datos en clases y comparamos las frecuencias observadas con las esperadas bajo una distribución normal.\n",
    "\n",
    "1.  **Estandarizar los datos:** Convertimos cada suma $S_i$ a un valor $Z_i$ de la normal estándar.\n",
    "    $Z_i = \\frac{S_i - \\mu_S}{\\sigma_S}$\n",
    "2.  **Definir clases:** Creamos intervalos (clases) para los valores de $Z$.\n",
    "3.  **Calcular frecuencias esperadas:** Para cada clase, calculamos la probabilidad teórica usando la función de distribución acumulada (CDF) de la normal estándar y la multiplicamos por el número total de observaciones.\n",
    "4.  **Aplicar la prueba $\\chi^2$:**\n",
    "    $\\chi^2 = \\sum_{i=1}^{m} \\frac{(O_i - E_i)^2}{E_i}$\n",
    "\n",
    "**Hipótesis:**\n",
    "- $H_0$: Los datos de la suma $S$ siguen una distribución normal.\n",
    "- $H_1$: Los datos no siguen una distribución normal."
   ]
  },
  {
   "cell_type": "code",
   "execution_count": 15,
   "id": "5441ca3b",
   "metadata": {},
   "outputs": [
    {
     "name": "stdout",
     "output_type": "stream",
     "text": [
      "Tabla de Frecuencias para Prueba Chi-cuadrado:\n",
      "          Clase (Z)  Observada (O)  Esperada (E)\n",
      "0          Z < -1.5              7      6.680720\n",
      "1  -1.5 <= Z < -0.5             33     24.173034\n",
      "2   -0.5 <= Z < 0.5             24     38.292492\n",
      "3    0.5 <= Z < 1.5             30     24.173034\n",
      "4          Z >= 1.5              6      6.680720\n",
      "\n",
      "--- Resultados de la Prueba Chi-cuadrado ---\n",
      "Estadístico Chi-cuadrado calculado (χ²): 10.0471\n",
      "Grados de libertad: 2\n",
      "Valor crítico de Chi-cuadrado (α=0.05): 5.9915\n",
      "p-valor: 0.0066\n",
      "\n",
      "Conclusión: Se rechaza la hipótesis nula (H₀).\n",
      "Los datos no parecen seguir una distribución normal.\n"
     ]
    }
   ],
   "source": [
    "# 1. Estandarizar los datos usando los parámetros muestrales\n",
    "Z_values = (S_values - media_muestral) / std_muestral\n",
    "\n",
    "# 2. Definir clases para Z\n",
    "# Usaremos 6 clases con límites en -inf, -1.5, -0.5, 0.5, 1.5, +inf\n",
    "bins = [-np.inf, -1.5, -0.5, 0.5, 1.5, np.inf]\n",
    "labels = ['Z < -1.5', '-1.5 <= Z < -0.5', '-0.5 <= Z < 0.5', '0.5 <= Z < 1.5', 'Z >= 1.5']\n",
    "\n",
    "# Frecuencias observadas\n",
    "frec_observada = pd.cut(Z_values, bins=bins, labels=labels, right=False).value_counts().sort_index()\n",
    "\n",
    "# 3. Calcular frecuencias esperadas\n",
    "prob_esperada = []\n",
    "prob_esperada.append(norm.cdf(bins[1]))\n",
    "for i in range(1, len(bins) - 2):\n",
    "    prob_esperada.append(norm.cdf(bins[i+1]) - norm.cdf(bins[i]))\n",
    "prob_esperada.append(1 - norm.cdf(bins[-2]))\n",
    "\n",
    "frec_esperada = np.array(prob_esperada) * len(S_values)\n",
    "\n",
    "# Crear DataFrame para la tabla\n",
    "df_chi2 = pd.DataFrame({\n",
    "    'Clase (Z)': labels,\n",
    "    'Observada (O)': frec_observada.values,\n",
    "    'Esperada (E)': frec_esperada\n",
    "})\n",
    "\n",
    "# 4. Aplicar la prueba Chi-cuadrado\n",
    "O = df_chi2['Observada (O)'].values\n",
    "E = df_chi2['Esperada (E)'].values\n",
    "chi2_calculado = np.sum((O - E)**2 / E)\n",
    "\n",
    "# Grados de libertad: m (clases) - 1 (total) - 2 (parámetros estimados: media, std)\n",
    "grados_libertad = len(O) - 1 - 2\n",
    "\n",
    "# Nivel de significancia\n",
    "alpha = 0.05\n",
    "chi2_critico = chi2.ppf(1 - alpha, grados_libertad)\n",
    "p_valor = 1 - chi2.cdf(chi2_calculado, grados_libertad)\n",
    "\n",
    "print(\"Tabla de Frecuencias para Prueba Chi-cuadrado:\")\n",
    "print(df_chi2)\n",
    "print(\"\\n--- Resultados de la Prueba Chi-cuadrado ---\")\n",
    "print(f\"Estadístico Chi-cuadrado calculado (χ²): {chi2_calculado:.4f}\")\n",
    "print(f\"Grados de libertad: {grados_libertad}\")\n",
    "print(f\"Valor crítico de Chi-cuadrado (α=0.05): {chi2_critico:.4f}\")\n",
    "print(f\"p-valor: {p_valor:.4f}\")\n",
    "\n",
    "# Conclusión\n",
    "if chi2_calculado > chi2_critico:\n",
    "    print(\"\\nConclusión: Se rechaza la hipótesis nula (H₀).\")\n",
    "    print(\"Los datos no parecen seguir una distribución normal.\")\n",
    "else:\n",
    "    print(\"\\nConclusión: No se puede rechazar la hipótesis nula (H₀).\")\n",
    "    print(\"Los datos son consistentes con una distribución normal.\")"
   ]
  },
  {
   "cell_type": "markdown",
   "id": "ad3a9588",
   "metadata": {},
   "source": [
    "## Conclusión general\n",
    "\n",
    "A pesar de que visualmente los datos parecen seguir una tendencia claramente normal, la prueba Chi-cuadrado es lo suficientemente sensible como para detectar que las frecuencias observadas en las clases específicas que definimos se desvían de las frecuencias teóricas un poco más de lo que se esperaría por puro azar, llevando a \"fallar\" la prueba bajo un nivel de significancia estricto del 5%."
   ]
  }
 ],
 "metadata": {
  "kernelspec": {
   "display_name": "venv",
   "language": "python",
   "name": "python3"
  },
  "language_info": {
   "codemirror_mode": {
    "name": "ipython",
    "version": 3
   },
   "file_extension": ".py",
   "mimetype": "text/x-python",
   "name": "python",
   "nbconvert_exporter": "python",
   "pygments_lexer": "ipython3",
   "version": "3.13.7"
  }
 },
 "nbformat": 4,
 "nbformat_minor": 5
}
